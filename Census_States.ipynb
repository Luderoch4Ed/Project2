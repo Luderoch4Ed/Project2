{
 "cells": [
  {
   "cell_type": "code",
   "execution_count": 1,
   "metadata": {
    "ExecuteTime": {
     "end_time": "2020-05-21T18:56:08.272450Z",
     "start_time": "2020-05-21T18:56:08.267487Z"
    }
   },
   "outputs": [],
   "source": [
    "# Dependencies\n",
    "import numpy as np\n",
    "import pandas as pd\n",
    "import matplotlib.pyplot as plt\n",
    "import requests\n",
    "from census import Census\n",
    "import gmaps\n",
    "\n",
    "# Census & gmaps API Keys\n",
    "from config import (census_key, gkey)\n",
    "c = Census(census_key, year=2013)\n",
    "\n",
    "# Configure gmaps\n",
    "#gmaps.configure(api_key=gkey)"
   ]
  },
  {
   "cell_type": "code",
   "execution_count": 2,
   "metadata": {
    "ExecuteTime": {
     "end_time": "2020-05-21T19:10:53.262536Z",
     "start_time": "2020-05-21T19:10:52.581234Z"
    }
   },
   "outputs": [
    {
     "data": {
      "text/html": [
       "<div>\n",
       "<style scoped>\n",
       "    .dataframe tbody tr th:only-of-type {\n",
       "        vertical-align: middle;\n",
       "    }\n",
       "\n",
       "    .dataframe tbody tr th {\n",
       "        vertical-align: top;\n",
       "    }\n",
       "\n",
       "    .dataframe thead th {\n",
       "        text-align: right;\n",
       "    }\n",
       "</style>\n",
       "<table border=\"1\" class=\"dataframe\">\n",
       "  <thead>\n",
       "    <tr style=\"text-align: right;\">\n",
       "      <th></th>\n",
       "      <th>State</th>\n",
       "      <th>Household Income</th>\n",
       "      <th>Population</th>\n",
       "      <th>Median Age</th>\n",
       "      <th>Per Capita Income</th>\n",
       "      <th>Poverty Count</th>\n",
       "      <th>Unemployment Count</th>\n",
       "      <th>StateNo</th>\n",
       "    </tr>\n",
       "  </thead>\n",
       "  <tbody>\n",
       "    <tr>\n",
       "      <td>0</td>\n",
       "      <td>Alabama</td>\n",
       "      <td>43253.0</td>\n",
       "      <td>4799277.0</td>\n",
       "      <td>38.1</td>\n",
       "      <td>23680.0</td>\n",
       "      <td>870631.0</td>\n",
       "      <td>241930.0</td>\n",
       "      <td>01</td>\n",
       "    </tr>\n",
       "    <tr>\n",
       "      <td>1</td>\n",
       "      <td>Alaska</td>\n",
       "      <td>70760.0</td>\n",
       "      <td>720316.0</td>\n",
       "      <td>33.6</td>\n",
       "      <td>32651.0</td>\n",
       "      <td>69514.0</td>\n",
       "      <td>32939.0</td>\n",
       "      <td>02</td>\n",
       "    </tr>\n",
       "    <tr>\n",
       "      <td>2</td>\n",
       "      <td>Arizona</td>\n",
       "      <td>49774.0</td>\n",
       "      <td>6479703.0</td>\n",
       "      <td>36.3</td>\n",
       "      <td>25358.0</td>\n",
       "      <td>1131901.0</td>\n",
       "      <td>316360.0</td>\n",
       "      <td>04</td>\n",
       "    </tr>\n",
       "    <tr>\n",
       "      <td>3</td>\n",
       "      <td>Arkansas</td>\n",
       "      <td>40768.0</td>\n",
       "      <td>2933369.0</td>\n",
       "      <td>37.5</td>\n",
       "      <td>22170.0</td>\n",
       "      <td>547328.0</td>\n",
       "      <td>121235.0</td>\n",
       "      <td>05</td>\n",
       "    </tr>\n",
       "    <tr>\n",
       "      <td>4</td>\n",
       "      <td>California</td>\n",
       "      <td>61094.0</td>\n",
       "      <td>37659181.0</td>\n",
       "      <td>35.4</td>\n",
       "      <td>29527.0</td>\n",
       "      <td>5885417.0</td>\n",
       "      <td>2168665.0</td>\n",
       "      <td>06</td>\n",
       "    </tr>\n",
       "  </tbody>\n",
       "</table>\n",
       "</div>"
      ],
      "text/plain": [
       "        State  Household Income  Population  Median Age  Per Capita Income  \\\n",
       "0     Alabama           43253.0   4799277.0        38.1            23680.0   \n",
       "1      Alaska           70760.0    720316.0        33.6            32651.0   \n",
       "2     Arizona           49774.0   6479703.0        36.3            25358.0   \n",
       "3    Arkansas           40768.0   2933369.0        37.5            22170.0   \n",
       "4  California           61094.0  37659181.0        35.4            29527.0   \n",
       "\n",
       "   Poverty Count  Unemployment Count StateNo  \n",
       "0       870631.0            241930.0      01  \n",
       "1        69514.0             32939.0      02  \n",
       "2      1131901.0            316360.0      04  \n",
       "3       547328.0            121235.0      05  \n",
       "4      5885417.0           2168665.0      06  "
      ]
     },
     "execution_count": 2,
     "metadata": {},
     "output_type": "execute_result"
    }
   ],
   "source": [
    "census_data = c.acs5.get((\"NAME\", \"B19013_001E\", \"B01003_001E\", \"B01002_001E\",\n",
    "                          \"B19301_001E\",\n",
    "                          \"B17001_002E\",\n",
    "                          \"B23025_005E\"\n",
    "                          ), {'for': 'state:*'})\n",
    "\n",
    "# Convert to DataFrame\n",
    "\n",
    "census_pd = pd.DataFrame(census_data)\n",
    "census_pd = census_pd.rename(columns={\"B01003_001E\": \"Population\",\n",
    "                                      \"B01002_001E\": \"Median Age\",\n",
    "                                      \"B19013_001E\": \"Household Income\",\n",
    "                                      \"B19301_001E\": \"Per Capita Income\",\n",
    "                                      \"B17001_002E\": \"Poverty Count\",\n",
    "                                      \"B23025_005E\": \"Unemployment Count\",\n",
    "                                      \"NAME\": \"State\", \"state\": \"StateNo\",\n",
    "                                      \"zip code tabulation area\": \"Zipcode\"})\n",
    "census_pd.head()\n",
    "#census_pd.dtypes()"
   ]
  },
  {
   "cell_type": "code",
   "execution_count": null,
   "metadata": {
    "ExecuteTime": {
     "end_time": "2020-05-21T18:34:36.198741Z",
     "start_time": "2020-05-21T18:34:34.314362Z"
    }
   },
   "outputs": [],
   "source": [
    "# Run Census Search to retrieve data on all states\n",
    "# Note the addition of \"B23025_005E\" for unemployment count\n",
    "census_data = c.acs5.get((\"NAME\", \"B19013_001E\", \"B01003_001E\", \"B01002_001E\",\n",
    "                          \"B19301_001E\",\n",
    "                          \"B17001_002E\",\n",
    "                          \"B23025_005E\"), {'for': 'state:*'})\n",
    "\n",
    "# Convert to DataFrame\n",
    "census_pd = pd.DataFrame(census_data)\n",
    "\n",
    "# Column Reordering\n",
    "census_pd = census_pd.rename(columns={\"B01003_001E\": \"Population\",\n",
    "                                      \"B01002_001E\": \"Median Age\",\n",
    "                                      \"B19013_001E\": \"Household Income\",\n",
    "                                      \"B19301_001E\": \"Per Capita Income\",\n",
    "                                      \"B17001_002E\": \"Poverty Count\",\n",
    "                                      \"B23025_005E\": \"Unemployment Count\",\n",
    "                                      \"NAME\": \"Name\", \"state\": \"State\",\n",
    "                                      \"zip code tabulation area\": \"Zipcode\"})\n",
    "\n",
    "# Add in Poverty Rate (Poverty Count / Population)\n",
    "census_pd[\"Poverty Rate\"] = 100 * \\\n",
    "    census_pd[\"Poverty Count\"].astype(\n",
    "        int) / census_pd[\"Population\"].astype(int)\n",
    "\n",
    "ation\"].astype(int)# Add in Employment Rate (Employment Count / Population)\n",
    "census_pd[\"Unemployment Rate\"] = 100 * \\\n",
    "    census_pd[\"Unemployment Count\"].astype(\n",
    "        int) / census_pd[\"Popul\n",
    "\n",
    "# Final DataFrame\n",
    "census_pd = census_pd[[\"State\", \"Name\", \"Population\", \"Median Age\", \"Household Income\",\n",
    "                       \"Per Capita Income\", \"Poverty Count\", \"Poverty Rate\", \"Unemployment Rate\",\"Zipcode\"]]\n",
    "\n",
    "census_pd.head()"
   ]
  },
  {
   "cell_type": "code",
   "execution_count": null,
   "metadata": {},
   "outputs": [],
   "source": [
    "# Save as a csv\n",
    "# Note to avoid any issues later, use encoding=\"utf-8\"\n",
    "census_pd.to_csv(\"census_data_states.csv\", encoding=\"utf-8\", index=False)"
   ]
  },
  {
   "cell_type": "code",
   "execution_count": null,
   "metadata": {},
   "outputs": [],
   "source": [
    "# Read in the csv containing state centroid coordinates\n",
    "centroids = pd.read_csv(\"../Resources/state_centroids.csv\")\n",
    "centroids.head()"
   ]
  },
  {
   "cell_type": "code",
   "execution_count": null,
   "metadata": {},
   "outputs": [],
   "source": [
    "# Merge the datasets using the sate columns\n",
    "census_data = pd.merge(census_pd, centroids, how=\"left\", left_on=\"Name\", right_on=\"State\")\n",
    "\n",
    "# Save the updated dataframe as a csv\n",
    "census_data.to_csv(\"../Resources/state_census_data.csv\", encoding=\"utf-8\", index=False)\n",
    "census_data.head()"
   ]
  },
  {
   "cell_type": "code",
   "execution_count": null,
   "metadata": {},
   "outputs": [],
   "source": [
    "# Convert poverty rate as a list\n",
    "# Convert bank rate to list\n",
    "poverty_rate = census_data[\"Poverty Rate\"].tolist()"
   ]
  },
  {
   "cell_type": "code",
   "execution_count": null,
   "metadata": {},
   "outputs": [],
   "source": [
    "# Create a map using state centroid coordinates to set markers\n",
    "marker_locations = census_data[['Latitude', 'Longitude']]\n",
    "\n",
    "# Create a marker_layer using the poverty list to fill the info box\n",
    "fig = gmaps.figure()\n",
    "markers = gmaps.marker_layer(marker_locations,\n",
    "    info_box_content=[f\"Poverty Rate: {rate}\" for rate in poverty_rate])\n",
    "fig.add_layer(markers)\n",
    "fig"
   ]
  },
  {
   "cell_type": "markdown",
   "metadata": {},
   "source": [
    "![10-State_Markers.png](../Images/10-State_Markers.png)"
   ]
  },
  {
   "cell_type": "code",
   "execution_count": null,
   "metadata": {},
   "outputs": [],
   "source": []
  }
 ],
 "metadata": {
  "anaconda-cloud": {},
  "kernelspec": {
   "display_name": "Python 3",
   "language": "python",
   "name": "python3"
  },
  "language_info": {
   "codemirror_mode": {
    "name": "ipython",
    "version": 3
   },
   "file_extension": ".py",
   "mimetype": "text/x-python",
   "name": "python",
   "nbconvert_exporter": "python",
   "pygments_lexer": "ipython3",
   "version": "3.7.4"
  },
  "toc": {
   "base_numbering": 1,
   "nav_menu": {},
   "number_sections": true,
   "sideBar": true,
   "skip_h1_title": false,
   "title_cell": "Table of Contents",
   "title_sidebar": "Contents",
   "toc_cell": false,
   "toc_position": {},
   "toc_section_display": true,
   "toc_window_display": false
  },
  "varInspector": {
   "cols": {
    "lenName": 16,
    "lenType": 16,
    "lenVar": 40
   },
   "kernels_config": {
    "python": {
     "delete_cmd_postfix": "",
     "delete_cmd_prefix": "del ",
     "library": "var_list.py",
     "varRefreshCmd": "print(var_dic_list())"
    },
    "r": {
     "delete_cmd_postfix": ") ",
     "delete_cmd_prefix": "rm(",
     "library": "var_list.r",
     "varRefreshCmd": "cat(var_dic_list()) "
    }
   },
   "types_to_exclude": [
    "module",
    "function",
    "builtin_function_or_method",
    "instance",
    "_Feature"
   ],
   "window_display": false
  }
 },
 "nbformat": 4,
 "nbformat_minor": 2
}
