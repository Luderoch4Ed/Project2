{
 "cells": [
  {
   "cell_type": "code",
   "execution_count": 1,
   "metadata": {
    "ExecuteTime": {
     "end_time": "2020-07-09T05:09:36.948714Z",
     "start_time": "2020-07-09T05:09:34.200818Z"
    }
   },
   "outputs": [],
   "source": [
    "import plotly.express as px\n",
    "import pandas as pd"
   ]
  },
  {
   "cell_type": "code",
   "execution_count": 2,
   "metadata": {
    "ExecuteTime": {
     "end_time": "2020-07-09T05:09:36.989706Z",
     "start_time": "2020-07-09T05:09:36.949715Z"
    }
   },
   "outputs": [
    {
     "output_type": "execute_result",
     "data": {
      "text/plain": "    Unnamed: 0                 state  total_count post_code   latitude  \\\n0            0               Alabama          876        AL  32.318231   \n1            1                Alaska           69        AK  63.588753   \n2            2               Arizona          916        AZ  34.048928   \n3            3              Arkansas          472        AR  35.201050   \n4            4            California         3259        CA  36.778261   \n5            5              Colorado          588        CO  39.550051   \n6            6           Connecticut          276        CT  41.603221   \n7            7              Delaware          104        DE  38.910832   \n8            8  District of Columbia           30        DC  38.905985   \n9            9               Florida         2915        FL  27.664827   \n10          10               Georgia         1407        GA  32.157435   \n11          11                Hawaii          110        HI  19.898682   \n12          12                 Idaho          212        ID  44.068202   \n13          13              Illinois          948        IL  40.633125   \n14          14               Indiana          774        IN  40.551217   \n15          15                  Iowa          291        IA  41.878003   \n16          16                Kansas          366        KS  39.011902   \n17          17              Kentucky          664        KY  37.839333   \n18          18             Louisiana          716        LA  31.244823   \n19          19                 Maine          128        ME  45.253783   \n20          20              Maryland          474        MD  39.045755   \n21          21         Massachusetts          343        MA  42.407211   \n22          22              Michigan          905        MI  44.314844   \n23          23             Minnesota          349        MN  46.729553   \n24          24           Mississippi          597        MS  32.354668   \n25          25              Missouri          848        MO  37.964253   \n26          26               Montana          168        MT  46.879682   \n27          27              Nebraska          201        NE  41.492537   \n28          28                Nevada          300        NV  38.802610   \n29          29         New Hampshire          134        NH  43.193852   \n30          30            New Jersey          525        NJ  40.058324   \n31          31            New Mexico          350        NM  34.972730   \n32          32              New York          889        NY  43.299428   \n33          33        North Carolina         1321        NC  35.759573   \n34          34          North Dakota           95        ND  47.551493   \n35          35                  Ohio          996        OH  40.417287   \n36          36              Oklahoma          603        OK  35.007752   \n37          37                Oregon          450        OR  43.804133   \n38          38          Pennsylvania         1103        PA  41.203322   \n39          39          Rhode Island           56        RI  41.580095   \n40          40        South Carolina          970        SC  33.836081   \n41          41          South Dakota          110        SD  43.969515   \n42          42             Tennessee          974        TN  35.517491   \n43          43                 Texas         3305        TX  31.968599   \n44          44                  Utah          237        UT  39.320980   \n45          45               Vermont           60        VT  44.558803   \n46          46              Virginia          778        VA  37.431573   \n47          47            Washington          497        WA  47.751074   \n48          48         West Virginia          265        WV  38.597626   \n49          49             Wisconsin          530        WI  43.784440   \n50          50               Wyoming          100        WY  43.075968   \n\n     longitude  \n0   -86.902298  \n1  -154.493062  \n2  -111.093731  \n3   -91.831833  \n4  -119.417932  \n5  -105.782067  \n6   -73.087749  \n7   -75.527670  \n8   -77.033418  \n9   -81.515754  \n10  -82.907123  \n11 -155.665857  \n12 -114.742041  \n13  -89.398528  \n14  -85.602364  \n15  -93.097702  \n16  -98.484246  \n17  -84.270018  \n18  -92.145024  \n19  -69.445469  \n20  -76.641271  \n21  -71.382437  \n22  -85.602364  \n23  -94.685900  \n24  -89.398528  \n25  -91.831833  \n26 -110.362566  \n27  -99.901813  \n28 -116.419389  \n29  -71.572395  \n30  -74.405661  \n31 -105.032363  \n32  -74.217933  \n33  -79.019300  \n34 -101.002012  \n35  -82.907123  \n36  -97.092877  \n37 -120.554201  \n38  -77.194525  \n39  -71.477429  \n40  -81.163725  \n41  -99.901813  \n42  -86.580447  \n43  -99.901813  \n44 -111.093731  \n45  -72.577841  \n46  -78.656894  \n47 -120.740139  \n48  -80.454903  \n49  -88.787868  \n50 -107.290284  ",
      "text/html": "<div>\n<style scoped>\n    .dataframe tbody tr th:only-of-type {\n        vertical-align: middle;\n    }\n\n    .dataframe tbody tr th {\n        vertical-align: top;\n    }\n\n    .dataframe thead th {\n        text-align: right;\n    }\n</style>\n<table border=\"1\" class=\"dataframe\">\n  <thead>\n    <tr style=\"text-align: right;\">\n      <th></th>\n      <th>Unnamed: 0</th>\n      <th>state</th>\n      <th>total_count</th>\n      <th>post_code</th>\n      <th>latitude</th>\n      <th>longitude</th>\n    </tr>\n  </thead>\n  <tbody>\n    <tr>\n      <td>0</td>\n      <td>0</td>\n      <td>Alabama</td>\n      <td>876</td>\n      <td>AL</td>\n      <td>32.318231</td>\n      <td>-86.902298</td>\n    </tr>\n    <tr>\n      <td>1</td>\n      <td>1</td>\n      <td>Alaska</td>\n      <td>69</td>\n      <td>AK</td>\n      <td>63.588753</td>\n      <td>-154.493062</td>\n    </tr>\n    <tr>\n      <td>2</td>\n      <td>2</td>\n      <td>Arizona</td>\n      <td>916</td>\n      <td>AZ</td>\n      <td>34.048928</td>\n      <td>-111.093731</td>\n    </tr>\n    <tr>\n      <td>3</td>\n      <td>3</td>\n      <td>Arkansas</td>\n      <td>472</td>\n      <td>AR</td>\n      <td>35.201050</td>\n      <td>-91.831833</td>\n    </tr>\n    <tr>\n      <td>4</td>\n      <td>4</td>\n      <td>California</td>\n      <td>3259</td>\n      <td>CA</td>\n      <td>36.778261</td>\n      <td>-119.417932</td>\n    </tr>\n    <tr>\n      <td>5</td>\n      <td>5</td>\n      <td>Colorado</td>\n      <td>588</td>\n      <td>CO</td>\n      <td>39.550051</td>\n      <td>-105.782067</td>\n    </tr>\n    <tr>\n      <td>6</td>\n      <td>6</td>\n      <td>Connecticut</td>\n      <td>276</td>\n      <td>CT</td>\n      <td>41.603221</td>\n      <td>-73.087749</td>\n    </tr>\n    <tr>\n      <td>7</td>\n      <td>7</td>\n      <td>Delaware</td>\n      <td>104</td>\n      <td>DE</td>\n      <td>38.910832</td>\n      <td>-75.527670</td>\n    </tr>\n    <tr>\n      <td>8</td>\n      <td>8</td>\n      <td>District of Columbia</td>\n      <td>30</td>\n      <td>DC</td>\n      <td>38.905985</td>\n      <td>-77.033418</td>\n    </tr>\n    <tr>\n      <td>9</td>\n      <td>9</td>\n      <td>Florida</td>\n      <td>2915</td>\n      <td>FL</td>\n      <td>27.664827</td>\n      <td>-81.515754</td>\n    </tr>\n    <tr>\n      <td>10</td>\n      <td>10</td>\n      <td>Georgia</td>\n      <td>1407</td>\n      <td>GA</td>\n      <td>32.157435</td>\n      <td>-82.907123</td>\n    </tr>\n    <tr>\n      <td>11</td>\n      <td>11</td>\n      <td>Hawaii</td>\n      <td>110</td>\n      <td>HI</td>\n      <td>19.898682</td>\n      <td>-155.665857</td>\n    </tr>\n    <tr>\n      <td>12</td>\n      <td>12</td>\n      <td>Idaho</td>\n      <td>212</td>\n      <td>ID</td>\n      <td>44.068202</td>\n      <td>-114.742041</td>\n    </tr>\n    <tr>\n      <td>13</td>\n      <td>13</td>\n      <td>Illinois</td>\n      <td>948</td>\n      <td>IL</td>\n      <td>40.633125</td>\n      <td>-89.398528</td>\n    </tr>\n    <tr>\n      <td>14</td>\n      <td>14</td>\n      <td>Indiana</td>\n      <td>774</td>\n      <td>IN</td>\n      <td>40.551217</td>\n      <td>-85.602364</td>\n    </tr>\n    <tr>\n      <td>15</td>\n      <td>15</td>\n      <td>Iowa</td>\n      <td>291</td>\n      <td>IA</td>\n      <td>41.878003</td>\n      <td>-93.097702</td>\n    </tr>\n    <tr>\n      <td>16</td>\n      <td>16</td>\n      <td>Kansas</td>\n      <td>366</td>\n      <td>KS</td>\n      <td>39.011902</td>\n      <td>-98.484246</td>\n    </tr>\n    <tr>\n      <td>17</td>\n      <td>17</td>\n      <td>Kentucky</td>\n      <td>664</td>\n      <td>KY</td>\n      <td>37.839333</td>\n      <td>-84.270018</td>\n    </tr>\n    <tr>\n      <td>18</td>\n      <td>18</td>\n      <td>Louisiana</td>\n      <td>716</td>\n      <td>LA</td>\n      <td>31.244823</td>\n      <td>-92.145024</td>\n    </tr>\n    <tr>\n      <td>19</td>\n      <td>19</td>\n      <td>Maine</td>\n      <td>128</td>\n      <td>ME</td>\n      <td>45.253783</td>\n      <td>-69.445469</td>\n    </tr>\n    <tr>\n      <td>20</td>\n      <td>20</td>\n      <td>Maryland</td>\n      <td>474</td>\n      <td>MD</td>\n      <td>39.045755</td>\n      <td>-76.641271</td>\n    </tr>\n    <tr>\n      <td>21</td>\n      <td>21</td>\n      <td>Massachusetts</td>\n      <td>343</td>\n      <td>MA</td>\n      <td>42.407211</td>\n      <td>-71.382437</td>\n    </tr>\n    <tr>\n      <td>22</td>\n      <td>22</td>\n      <td>Michigan</td>\n      <td>905</td>\n      <td>MI</td>\n      <td>44.314844</td>\n      <td>-85.602364</td>\n    </tr>\n    <tr>\n      <td>23</td>\n      <td>23</td>\n      <td>Minnesota</td>\n      <td>349</td>\n      <td>MN</td>\n      <td>46.729553</td>\n      <td>-94.685900</td>\n    </tr>\n    <tr>\n      <td>24</td>\n      <td>24</td>\n      <td>Mississippi</td>\n      <td>597</td>\n      <td>MS</td>\n      <td>32.354668</td>\n      <td>-89.398528</td>\n    </tr>\n    <tr>\n      <td>25</td>\n      <td>25</td>\n      <td>Missouri</td>\n      <td>848</td>\n      <td>MO</td>\n      <td>37.964253</td>\n      <td>-91.831833</td>\n    </tr>\n    <tr>\n      <td>26</td>\n      <td>26</td>\n      <td>Montana</td>\n      <td>168</td>\n      <td>MT</td>\n      <td>46.879682</td>\n      <td>-110.362566</td>\n    </tr>\n    <tr>\n      <td>27</td>\n      <td>27</td>\n      <td>Nebraska</td>\n      <td>201</td>\n      <td>NE</td>\n      <td>41.492537</td>\n      <td>-99.901813</td>\n    </tr>\n    <tr>\n      <td>28</td>\n      <td>28</td>\n      <td>Nevada</td>\n      <td>300</td>\n      <td>NV</td>\n      <td>38.802610</td>\n      <td>-116.419389</td>\n    </tr>\n    <tr>\n      <td>29</td>\n      <td>29</td>\n      <td>New Hampshire</td>\n      <td>134</td>\n      <td>NH</td>\n      <td>43.193852</td>\n      <td>-71.572395</td>\n    </tr>\n    <tr>\n      <td>30</td>\n      <td>30</td>\n      <td>New Jersey</td>\n      <td>525</td>\n      <td>NJ</td>\n      <td>40.058324</td>\n      <td>-74.405661</td>\n    </tr>\n    <tr>\n      <td>31</td>\n      <td>31</td>\n      <td>New Mexico</td>\n      <td>350</td>\n      <td>NM</td>\n      <td>34.972730</td>\n      <td>-105.032363</td>\n    </tr>\n    <tr>\n      <td>32</td>\n      <td>32</td>\n      <td>New York</td>\n      <td>889</td>\n      <td>NY</td>\n      <td>43.299428</td>\n      <td>-74.217933</td>\n    </tr>\n    <tr>\n      <td>33</td>\n      <td>33</td>\n      <td>North Carolina</td>\n      <td>1321</td>\n      <td>NC</td>\n      <td>35.759573</td>\n      <td>-79.019300</td>\n    </tr>\n    <tr>\n      <td>34</td>\n      <td>34</td>\n      <td>North Dakota</td>\n      <td>95</td>\n      <td>ND</td>\n      <td>47.551493</td>\n      <td>-101.002012</td>\n    </tr>\n    <tr>\n      <td>35</td>\n      <td>35</td>\n      <td>Ohio</td>\n      <td>996</td>\n      <td>OH</td>\n      <td>40.417287</td>\n      <td>-82.907123</td>\n    </tr>\n    <tr>\n      <td>36</td>\n      <td>36</td>\n      <td>Oklahoma</td>\n      <td>603</td>\n      <td>OK</td>\n      <td>35.007752</td>\n      <td>-97.092877</td>\n    </tr>\n    <tr>\n      <td>37</td>\n      <td>37</td>\n      <td>Oregon</td>\n      <td>450</td>\n      <td>OR</td>\n      <td>43.804133</td>\n      <td>-120.554201</td>\n    </tr>\n    <tr>\n      <td>38</td>\n      <td>38</td>\n      <td>Pennsylvania</td>\n      <td>1103</td>\n      <td>PA</td>\n      <td>41.203322</td>\n      <td>-77.194525</td>\n    </tr>\n    <tr>\n      <td>39</td>\n      <td>39</td>\n      <td>Rhode Island</td>\n      <td>56</td>\n      <td>RI</td>\n      <td>41.580095</td>\n      <td>-71.477429</td>\n    </tr>\n    <tr>\n      <td>40</td>\n      <td>40</td>\n      <td>South Carolina</td>\n      <td>970</td>\n      <td>SC</td>\n      <td>33.836081</td>\n      <td>-81.163725</td>\n    </tr>\n    <tr>\n      <td>41</td>\n      <td>41</td>\n      <td>South Dakota</td>\n      <td>110</td>\n      <td>SD</td>\n      <td>43.969515</td>\n      <td>-99.901813</td>\n    </tr>\n    <tr>\n      <td>42</td>\n      <td>42</td>\n      <td>Tennessee</td>\n      <td>974</td>\n      <td>TN</td>\n      <td>35.517491</td>\n      <td>-86.580447</td>\n    </tr>\n    <tr>\n      <td>43</td>\n      <td>43</td>\n      <td>Texas</td>\n      <td>3305</td>\n      <td>TX</td>\n      <td>31.968599</td>\n      <td>-99.901813</td>\n    </tr>\n    <tr>\n      <td>44</td>\n      <td>44</td>\n      <td>Utah</td>\n      <td>237</td>\n      <td>UT</td>\n      <td>39.320980</td>\n      <td>-111.093731</td>\n    </tr>\n    <tr>\n      <td>45</td>\n      <td>45</td>\n      <td>Vermont</td>\n      <td>60</td>\n      <td>VT</td>\n      <td>44.558803</td>\n      <td>-72.577841</td>\n    </tr>\n    <tr>\n      <td>46</td>\n      <td>46</td>\n      <td>Virginia</td>\n      <td>778</td>\n      <td>VA</td>\n      <td>37.431573</td>\n      <td>-78.656894</td>\n    </tr>\n    <tr>\n      <td>47</td>\n      <td>47</td>\n      <td>Washington</td>\n      <td>497</td>\n      <td>WA</td>\n      <td>47.751074</td>\n      <td>-120.740139</td>\n    </tr>\n    <tr>\n      <td>48</td>\n      <td>48</td>\n      <td>West Virginia</td>\n      <td>265</td>\n      <td>WV</td>\n      <td>38.597626</td>\n      <td>-80.454903</td>\n    </tr>\n    <tr>\n      <td>49</td>\n      <td>49</td>\n      <td>Wisconsin</td>\n      <td>530</td>\n      <td>WI</td>\n      <td>43.784440</td>\n      <td>-88.787868</td>\n    </tr>\n    <tr>\n      <td>50</td>\n      <td>50</td>\n      <td>Wyoming</td>\n      <td>100</td>\n      <td>WY</td>\n      <td>43.075968</td>\n      <td>-107.290284</td>\n    </tr>\n  </tbody>\n</table>\n</div>"
     },
     "metadata": {},
     "execution_count": 2
    }
   ],
   "source": [
    "us_state = pd.read_csv(\"statecount_location.csv\")\n",
    "us_state"
   ]
  },
  {
   "cell_type": "code",
   "execution_count": 3,
   "metadata": {
    "ExecuteTime": {
     "end_time": "2020-07-09T05:09:37.008710Z",
     "start_time": "2020-07-09T05:09:36.991708Z"
    }
   },
   "outputs": [
    {
     "output_type": "execute_result",
     "data": {
      "text/plain": "                   state  total_count   latitude   longitude\n0                Alabama          876  32.318231  -86.902298\n1                 Alaska           69  63.588753 -154.493062\n2                Arizona          916  34.048928 -111.093731\n3               Arkansas          472  35.201050  -91.831833\n4             California         3259  36.778261 -119.417932\n5               Colorado          588  39.550051 -105.782067\n6            Connecticut          276  41.603221  -73.087749\n7               Delaware          104  38.910832  -75.527670\n8   District of Columbia           30  38.905985  -77.033418\n9                Florida         2915  27.664827  -81.515754\n10               Georgia         1407  32.157435  -82.907123\n11                Hawaii          110  19.898682 -155.665857\n12                 Idaho          212  44.068202 -114.742041\n13              Illinois          948  40.633125  -89.398528\n14               Indiana          774  40.551217  -85.602364\n15                  Iowa          291  41.878003  -93.097702\n16                Kansas          366  39.011902  -98.484246\n17              Kentucky          664  37.839333  -84.270018\n18             Louisiana          716  31.244823  -92.145024\n19                 Maine          128  45.253783  -69.445469\n20              Maryland          474  39.045755  -76.641271\n21         Massachusetts          343  42.407211  -71.382437\n22              Michigan          905  44.314844  -85.602364\n23             Minnesota          349  46.729553  -94.685900\n24           Mississippi          597  32.354668  -89.398528\n25              Missouri          848  37.964253  -91.831833\n26               Montana          168  46.879682 -110.362566\n27              Nebraska          201  41.492537  -99.901813\n28                Nevada          300  38.802610 -116.419389\n29         New Hampshire          134  43.193852  -71.572395\n30            New Jersey          525  40.058324  -74.405661\n31            New Mexico          350  34.972730 -105.032363\n32              New York          889  43.299428  -74.217933\n33        North Carolina         1321  35.759573  -79.019300\n34          North Dakota           95  47.551493 -101.002012\n35                  Ohio          996  40.417287  -82.907123\n36              Oklahoma          603  35.007752  -97.092877\n37                Oregon          450  43.804133 -120.554201\n38          Pennsylvania         1103  41.203322  -77.194525\n39          Rhode Island           56  41.580095  -71.477429\n40        South Carolina          970  33.836081  -81.163725\n41          South Dakota          110  43.969515  -99.901813\n42             Tennessee          974  35.517491  -86.580447\n43                 Texas         3305  31.968599  -99.901813\n44                  Utah          237  39.320980 -111.093731\n45               Vermont           60  44.558803  -72.577841\n46              Virginia          778  37.431573  -78.656894\n47            Washington          497  47.751074 -120.740139\n48         West Virginia          265  38.597626  -80.454903\n49             Wisconsin          530  43.784440  -88.787868\n50               Wyoming          100  43.075968 -107.290284",
      "text/html": "<div>\n<style scoped>\n    .dataframe tbody tr th:only-of-type {\n        vertical-align: middle;\n    }\n\n    .dataframe tbody tr th {\n        vertical-align: top;\n    }\n\n    .dataframe thead th {\n        text-align: right;\n    }\n</style>\n<table border=\"1\" class=\"dataframe\">\n  <thead>\n    <tr style=\"text-align: right;\">\n      <th></th>\n      <th>state</th>\n      <th>total_count</th>\n      <th>latitude</th>\n      <th>longitude</th>\n    </tr>\n  </thead>\n  <tbody>\n    <tr>\n      <td>0</td>\n      <td>Alabama</td>\n      <td>876</td>\n      <td>32.318231</td>\n      <td>-86.902298</td>\n    </tr>\n    <tr>\n      <td>1</td>\n      <td>Alaska</td>\n      <td>69</td>\n      <td>63.588753</td>\n      <td>-154.493062</td>\n    </tr>\n    <tr>\n      <td>2</td>\n      <td>Arizona</td>\n      <td>916</td>\n      <td>34.048928</td>\n      <td>-111.093731</td>\n    </tr>\n    <tr>\n      <td>3</td>\n      <td>Arkansas</td>\n      <td>472</td>\n      <td>35.201050</td>\n      <td>-91.831833</td>\n    </tr>\n    <tr>\n      <td>4</td>\n      <td>California</td>\n      <td>3259</td>\n      <td>36.778261</td>\n      <td>-119.417932</td>\n    </tr>\n    <tr>\n      <td>5</td>\n      <td>Colorado</td>\n      <td>588</td>\n      <td>39.550051</td>\n      <td>-105.782067</td>\n    </tr>\n    <tr>\n      <td>6</td>\n      <td>Connecticut</td>\n      <td>276</td>\n      <td>41.603221</td>\n      <td>-73.087749</td>\n    </tr>\n    <tr>\n      <td>7</td>\n      <td>Delaware</td>\n      <td>104</td>\n      <td>38.910832</td>\n      <td>-75.527670</td>\n    </tr>\n    <tr>\n      <td>8</td>\n      <td>District of Columbia</td>\n      <td>30</td>\n      <td>38.905985</td>\n      <td>-77.033418</td>\n    </tr>\n    <tr>\n      <td>9</td>\n      <td>Florida</td>\n      <td>2915</td>\n      <td>27.664827</td>\n      <td>-81.515754</td>\n    </tr>\n    <tr>\n      <td>10</td>\n      <td>Georgia</td>\n      <td>1407</td>\n      <td>32.157435</td>\n      <td>-82.907123</td>\n    </tr>\n    <tr>\n      <td>11</td>\n      <td>Hawaii</td>\n      <td>110</td>\n      <td>19.898682</td>\n      <td>-155.665857</td>\n    </tr>\n    <tr>\n      <td>12</td>\n      <td>Idaho</td>\n      <td>212</td>\n      <td>44.068202</td>\n      <td>-114.742041</td>\n    </tr>\n    <tr>\n      <td>13</td>\n      <td>Illinois</td>\n      <td>948</td>\n      <td>40.633125</td>\n      <td>-89.398528</td>\n    </tr>\n    <tr>\n      <td>14</td>\n      <td>Indiana</td>\n      <td>774</td>\n      <td>40.551217</td>\n      <td>-85.602364</td>\n    </tr>\n    <tr>\n      <td>15</td>\n      <td>Iowa</td>\n      <td>291</td>\n      <td>41.878003</td>\n      <td>-93.097702</td>\n    </tr>\n    <tr>\n      <td>16</td>\n      <td>Kansas</td>\n      <td>366</td>\n      <td>39.011902</td>\n      <td>-98.484246</td>\n    </tr>\n    <tr>\n      <td>17</td>\n      <td>Kentucky</td>\n      <td>664</td>\n      <td>37.839333</td>\n      <td>-84.270018</td>\n    </tr>\n    <tr>\n      <td>18</td>\n      <td>Louisiana</td>\n      <td>716</td>\n      <td>31.244823</td>\n      <td>-92.145024</td>\n    </tr>\n    <tr>\n      <td>19</td>\n      <td>Maine</td>\n      <td>128</td>\n      <td>45.253783</td>\n      <td>-69.445469</td>\n    </tr>\n    <tr>\n      <td>20</td>\n      <td>Maryland</td>\n      <td>474</td>\n      <td>39.045755</td>\n      <td>-76.641271</td>\n    </tr>\n    <tr>\n      <td>21</td>\n      <td>Massachusetts</td>\n      <td>343</td>\n      <td>42.407211</td>\n      <td>-71.382437</td>\n    </tr>\n    <tr>\n      <td>22</td>\n      <td>Michigan</td>\n      <td>905</td>\n      <td>44.314844</td>\n      <td>-85.602364</td>\n    </tr>\n    <tr>\n      <td>23</td>\n      <td>Minnesota</td>\n      <td>349</td>\n      <td>46.729553</td>\n      <td>-94.685900</td>\n    </tr>\n    <tr>\n      <td>24</td>\n      <td>Mississippi</td>\n      <td>597</td>\n      <td>32.354668</td>\n      <td>-89.398528</td>\n    </tr>\n    <tr>\n      <td>25</td>\n      <td>Missouri</td>\n      <td>848</td>\n      <td>37.964253</td>\n      <td>-91.831833</td>\n    </tr>\n    <tr>\n      <td>26</td>\n      <td>Montana</td>\n      <td>168</td>\n      <td>46.879682</td>\n      <td>-110.362566</td>\n    </tr>\n    <tr>\n      <td>27</td>\n      <td>Nebraska</td>\n      <td>201</td>\n      <td>41.492537</td>\n      <td>-99.901813</td>\n    </tr>\n    <tr>\n      <td>28</td>\n      <td>Nevada</td>\n      <td>300</td>\n      <td>38.802610</td>\n      <td>-116.419389</td>\n    </tr>\n    <tr>\n      <td>29</td>\n      <td>New Hampshire</td>\n      <td>134</td>\n      <td>43.193852</td>\n      <td>-71.572395</td>\n    </tr>\n    <tr>\n      <td>30</td>\n      <td>New Jersey</td>\n      <td>525</td>\n      <td>40.058324</td>\n      <td>-74.405661</td>\n    </tr>\n    <tr>\n      <td>31</td>\n      <td>New Mexico</td>\n      <td>350</td>\n      <td>34.972730</td>\n      <td>-105.032363</td>\n    </tr>\n    <tr>\n      <td>32</td>\n      <td>New York</td>\n      <td>889</td>\n      <td>43.299428</td>\n      <td>-74.217933</td>\n    </tr>\n    <tr>\n      <td>33</td>\n      <td>North Carolina</td>\n      <td>1321</td>\n      <td>35.759573</td>\n      <td>-79.019300</td>\n    </tr>\n    <tr>\n      <td>34</td>\n      <td>North Dakota</td>\n      <td>95</td>\n      <td>47.551493</td>\n      <td>-101.002012</td>\n    </tr>\n    <tr>\n      <td>35</td>\n      <td>Ohio</td>\n      <td>996</td>\n      <td>40.417287</td>\n      <td>-82.907123</td>\n    </tr>\n    <tr>\n      <td>36</td>\n      <td>Oklahoma</td>\n      <td>603</td>\n      <td>35.007752</td>\n      <td>-97.092877</td>\n    </tr>\n    <tr>\n      <td>37</td>\n      <td>Oregon</td>\n      <td>450</td>\n      <td>43.804133</td>\n      <td>-120.554201</td>\n    </tr>\n    <tr>\n      <td>38</td>\n      <td>Pennsylvania</td>\n      <td>1103</td>\n      <td>41.203322</td>\n      <td>-77.194525</td>\n    </tr>\n    <tr>\n      <td>39</td>\n      <td>Rhode Island</td>\n      <td>56</td>\n      <td>41.580095</td>\n      <td>-71.477429</td>\n    </tr>\n    <tr>\n      <td>40</td>\n      <td>South Carolina</td>\n      <td>970</td>\n      <td>33.836081</td>\n      <td>-81.163725</td>\n    </tr>\n    <tr>\n      <td>41</td>\n      <td>South Dakota</td>\n      <td>110</td>\n      <td>43.969515</td>\n      <td>-99.901813</td>\n    </tr>\n    <tr>\n      <td>42</td>\n      <td>Tennessee</td>\n      <td>974</td>\n      <td>35.517491</td>\n      <td>-86.580447</td>\n    </tr>\n    <tr>\n      <td>43</td>\n      <td>Texas</td>\n      <td>3305</td>\n      <td>31.968599</td>\n      <td>-99.901813</td>\n    </tr>\n    <tr>\n      <td>44</td>\n      <td>Utah</td>\n      <td>237</td>\n      <td>39.320980</td>\n      <td>-111.093731</td>\n    </tr>\n    <tr>\n      <td>45</td>\n      <td>Vermont</td>\n      <td>60</td>\n      <td>44.558803</td>\n      <td>-72.577841</td>\n    </tr>\n    <tr>\n      <td>46</td>\n      <td>Virginia</td>\n      <td>778</td>\n      <td>37.431573</td>\n      <td>-78.656894</td>\n    </tr>\n    <tr>\n      <td>47</td>\n      <td>Washington</td>\n      <td>497</td>\n      <td>47.751074</td>\n      <td>-120.740139</td>\n    </tr>\n    <tr>\n      <td>48</td>\n      <td>West Virginia</td>\n      <td>265</td>\n      <td>38.597626</td>\n      <td>-80.454903</td>\n    </tr>\n    <tr>\n      <td>49</td>\n      <td>Wisconsin</td>\n      <td>530</td>\n      <td>43.784440</td>\n      <td>-88.787868</td>\n    </tr>\n    <tr>\n      <td>50</td>\n      <td>Wyoming</td>\n      <td>100</td>\n      <td>43.075968</td>\n      <td>-107.290284</td>\n    </tr>\n  </tbody>\n</table>\n</div>"
     },
     "metadata": {},
     "execution_count": 3
    }
   ],
   "source": [
    "us_state_df = pd.DataFrame(us_state)[['state', 'total_count', 'latitude', 'longitude']]\n",
    "us_state_df"
   ]
  },
  {
   "cell_type": "code",
   "execution_count": 5,
   "metadata": {
    "ExecuteTime": {
     "end_time": "2020-07-09T05:09:38.469089Z",
     "start_time": "2020-07-09T05:09:37.010710Z"
    }
   },
   "outputs": [
    {
     "output_type": "display_data",
     "data": {
      "application/vnd.plotly.v1+json": {
       "config": {
        "plotlyServerURL": "https://plot.ly"
       },
       "data": [
        {
         "customdata": [
          [
           "Alabama",
           876
          ],
          [
           "Alaska",
           69
          ],
          [
           "Arizona",
           916
          ],
          [
           "Arkansas",
           472
          ],
          [
           "California",
           3259
          ],
          [
           "Colorado",
           588
          ],
          [
           "Connecticut",
           276
          ],
          [
           "Delaware",
           104
          ],
          [
           "District of Columbia",
           30
          ],
          [
           "Florida",
           2915
          ],
          [
           "Georgia",
           1407
          ],
          [
           "Hawaii",
           110
          ],
          [
           "Idaho",
           212
          ],
          [
           "Illinois",
           948
          ],
          [
           "Indiana",
           774
          ],
          [
           "Iowa",
           291
          ],
          [
           "Kansas",
           366
          ],
          [
           "Kentucky",
           664
          ],
          [
           "Louisiana",
           716
          ],
          [
           "Maine",
           128
          ],
          [
           "Maryland",
           474
          ],
          [
           "Massachusetts",
           343
          ],
          [
           "Michigan",
           905
          ],
          [
           "Minnesota",
           349
          ],
          [
           "Mississippi",
           597
          ],
          [
           "Missouri",
           848
          ],
          [
           "Montana",
           168
          ],
          [
           "Nebraska",
           201
          ],
          [
           "Nevada",
           300
          ],
          [
           "New Hampshire",
           134
          ],
          [
           "New Jersey",
           525
          ],
          [
           "New Mexico",
           350
          ],
          [
           "New York",
           889
          ],
          [
           "North Carolina",
           1321
          ],
          [
           "North Dakota",
           95
          ],
          [
           "Ohio",
           996
          ],
          [
           "Oklahoma",
           603
          ],
          [
           "Oregon",
           450
          ],
          [
           "Pennsylvania",
           1103
          ],
          [
           "Rhode Island",
           56
          ],
          [
           "South Carolina",
           970
          ],
          [
           "South Dakota",
           110
          ],
          [
           "Tennessee",
           974
          ],
          [
           "Texas",
           3305
          ],
          [
           "Utah",
           237
          ],
          [
           "Vermont",
           60
          ],
          [
           "Virginia",
           778
          ],
          [
           "Washington",
           497
          ],
          [
           "West Virginia",
           265
          ],
          [
           "Wisconsin",
           530
          ],
          [
           "Wyoming",
           100
          ]
         ],
         "hoverlabel": {
          "namelength": 0
         },
         "hovertemplate": "<b>%{hovertext}</b><br><br>total_count=%{customdata[1]}<br>state=%{customdata[0]}<br>latitude=%{lat}<br>longitude=%{lon}",
         "hovertext": [
          "Alabama",
          "Alaska",
          "Arizona",
          "Arkansas",
          "California",
          "Colorado",
          "Connecticut",
          "Delaware",
          "District of Columbia",
          "Florida",
          "Georgia",
          "Hawaii",
          "Idaho",
          "Illinois",
          "Indiana",
          "Iowa",
          "Kansas",
          "Kentucky",
          "Louisiana",
          "Maine",
          "Maryland",
          "Massachusetts",
          "Michigan",
          "Minnesota",
          "Mississippi",
          "Missouri",
          "Montana",
          "Nebraska",
          "Nevada",
          "New Hampshire",
          "New Jersey",
          "New Mexico",
          "New York",
          "North Carolina",
          "North Dakota",
          "Ohio",
          "Oklahoma",
          "Oregon",
          "Pennsylvania",
          "Rhode Island",
          "South Carolina",
          "South Dakota",
          "Tennessee",
          "Texas",
          "Utah",
          "Vermont",
          "Virginia",
          "Washington",
          "West Virginia",
          "Wisconsin",
          "Wyoming"
         ],
         "lat": [
          32.318231,
          63.588753,
          34.048928000000004,
          35.20105,
          36.778261,
          39.550051,
          41.60322100000001,
          38.910832,
          38.905985,
          27.664827,
          32.157435,
          19.898682,
          44.068202,
          40.633125,
          40.551217,
          41.878003,
          39.011902,
          37.839333,
          31.244823,
          45.253783,
          39.045755,
          42.407211,
          44.314844,
          46.729553,
          32.354668,
          37.964253,
          46.879682,
          41.492537,
          38.80261,
          43.193852,
          40.058324,
          34.97273,
          43.299428000000006,
          35.759573,
          47.551493,
          40.417287,
          35.007752,
          43.804133,
          41.203322,
          41.580095,
          33.836081,
          43.969515,
          35.517491,
          31.968599,
          39.32098,
          44.55880300000001,
          37.431573,
          47.751074,
          38.597626,
          43.78444,
          43.075968
         ],
         "legendgroup": "",
         "lon": [
          -86.902298,
          -154.493062,
          -111.093731,
          -91.831833,
          -119.417932,
          -105.782067,
          -73.087749,
          -75.52767,
          -77.03341800000003,
          -81.515754,
          -82.907123,
          -155.66585700000005,
          -114.742041,
          -89.398528,
          -85.602364,
          -93.097702,
          -98.484246,
          -84.27001800000002,
          -92.145024,
          -69.44546899999999,
          -76.641271,
          -71.382437,
          -85.602364,
          -94.6859,
          -89.398528,
          -91.831833,
          -110.362566,
          -99.901813,
          -116.419389,
          -71.572395,
          -74.405661,
          -105.032363,
          -74.217933,
          -79.0193,
          -101.002012,
          -82.907123,
          -97.092877,
          -120.554201,
          -77.194525,
          -71.477429,
          -81.163725,
          -99.901813,
          -86.58044699999998,
          -99.901813,
          -111.093731,
          -72.577841,
          -78.656894,
          -120.740139,
          -80.454903,
          -88.787868,
          -107.290284
         ],
         "marker": {
          "color": "fuchsia",
          "size": [
           876,
           69,
           916,
           472,
           3259,
           588,
           276,
           104,
           30,
           2915,
           1407,
           110,
           212,
           948,
           774,
           291,
           366,
           664,
           716,
           128,
           474,
           343,
           905,
           349,
           597,
           848,
           168,
           201,
           300,
           134,
           525,
           350,
           889,
           1321,
           95,
           996,
           603,
           450,
           1103,
           56,
           970,
           110,
           974,
           3305,
           237,
           60,
           778,
           497,
           265,
           530,
           100
          ],
          "sizemode": "area",
          "sizeref": 8.2625
         },
         "mode": "markers",
         "name": "",
         "showlegend": false,
         "subplot": "mapbox",
         "type": "scattermapbox"
        }
       ],
       "layout": {
        "height": 300,
        "legend": {
         "itemsizing": "constant",
         "tracegroupgap": 0
        },
        "mapbox": {
         "accesstoken": "pk.eyJ1IjoidmVlai03NyIsImEiOiJja2JudG1mdjAxMWE0MzR0bWs3YmYxZHFqIn0.qM8Sp9HAT_BRux9j7n-ZLQ",
         "center": {
          "lat": 39.5638803137255,
          "lon": -93.33912282352938
         },
         "domain": {
          "x": [
           0,
           1
          ],
          "y": [
           0,
           1
          ]
         },
         "style": "dark",
         "zoom": 3
        },
        "margin": {
         "b": 0,
         "l": 0,
         "r": 0,
         "t": 0
        },
        "template": {
         "data": {
          "bar": [
           {
            "error_x": {
             "color": "#2a3f5f"
            },
            "error_y": {
             "color": "#2a3f5f"
            },
            "marker": {
             "line": {
              "color": "#E5ECF6",
              "width": 0.5
             }
            },
            "type": "bar"
           }
          ],
          "barpolar": [
           {
            "marker": {
             "line": {
              "color": "#E5ECF6",
              "width": 0.5
             }
            },
            "type": "barpolar"
           }
          ],
          "carpet": [
           {
            "aaxis": {
             "endlinecolor": "#2a3f5f",
             "gridcolor": "white",
             "linecolor": "white",
             "minorgridcolor": "white",
             "startlinecolor": "#2a3f5f"
            },
            "baxis": {
             "endlinecolor": "#2a3f5f",
             "gridcolor": "white",
             "linecolor": "white",
             "minorgridcolor": "white",
             "startlinecolor": "#2a3f5f"
            },
            "type": "carpet"
           }
          ],
          "choropleth": [
           {
            "colorbar": {
             "outlinewidth": 0,
             "ticks": ""
            },
            "type": "choropleth"
           }
          ],
          "contour": [
           {
            "colorbar": {
             "outlinewidth": 0,
             "ticks": ""
            },
            "colorscale": [
             [
              0,
              "#0d0887"
             ],
             [
              0.1111111111111111,
              "#46039f"
             ],
             [
              0.2222222222222222,
              "#7201a8"
             ],
             [
              0.3333333333333333,
              "#9c179e"
             ],
             [
              0.4444444444444444,
              "#bd3786"
             ],
             [
              0.5555555555555556,
              "#d8576b"
             ],
             [
              0.6666666666666666,
              "#ed7953"
             ],
             [
              0.7777777777777778,
              "#fb9f3a"
             ],
             [
              0.8888888888888888,
              "#fdca26"
             ],
             [
              1,
              "#f0f921"
             ]
            ],
            "type": "contour"
           }
          ],
          "contourcarpet": [
           {
            "colorbar": {
             "outlinewidth": 0,
             "ticks": ""
            },
            "type": "contourcarpet"
           }
          ],
          "heatmap": [
           {
            "colorbar": {
             "outlinewidth": 0,
             "ticks": ""
            },
            "colorscale": [
             [
              0,
              "#0d0887"
             ],
             [
              0.1111111111111111,
              "#46039f"
             ],
             [
              0.2222222222222222,
              "#7201a8"
             ],
             [
              0.3333333333333333,
              "#9c179e"
             ],
             [
              0.4444444444444444,
              "#bd3786"
             ],
             [
              0.5555555555555556,
              "#d8576b"
             ],
             [
              0.6666666666666666,
              "#ed7953"
             ],
             [
              0.7777777777777778,
              "#fb9f3a"
             ],
             [
              0.8888888888888888,
              "#fdca26"
             ],
             [
              1,
              "#f0f921"
             ]
            ],
            "type": "heatmap"
           }
          ],
          "heatmapgl": [
           {
            "colorbar": {
             "outlinewidth": 0,
             "ticks": ""
            },
            "colorscale": [
             [
              0,
              "#0d0887"
             ],
             [
              0.1111111111111111,
              "#46039f"
             ],
             [
              0.2222222222222222,
              "#7201a8"
             ],
             [
              0.3333333333333333,
              "#9c179e"
             ],
             [
              0.4444444444444444,
              "#bd3786"
             ],
             [
              0.5555555555555556,
              "#d8576b"
             ],
             [
              0.6666666666666666,
              "#ed7953"
             ],
             [
              0.7777777777777778,
              "#fb9f3a"
             ],
             [
              0.8888888888888888,
              "#fdca26"
             ],
             [
              1,
              "#f0f921"
             ]
            ],
            "type": "heatmapgl"
           }
          ],
          "histogram": [
           {
            "marker": {
             "colorbar": {
              "outlinewidth": 0,
              "ticks": ""
             }
            },
            "type": "histogram"
           }
          ],
          "histogram2d": [
           {
            "colorbar": {
             "outlinewidth": 0,
             "ticks": ""
            },
            "colorscale": [
             [
              0,
              "#0d0887"
             ],
             [
              0.1111111111111111,
              "#46039f"
             ],
             [
              0.2222222222222222,
              "#7201a8"
             ],
             [
              0.3333333333333333,
              "#9c179e"
             ],
             [
              0.4444444444444444,
              "#bd3786"
             ],
             [
              0.5555555555555556,
              "#d8576b"
             ],
             [
              0.6666666666666666,
              "#ed7953"
             ],
             [
              0.7777777777777778,
              "#fb9f3a"
             ],
             [
              0.8888888888888888,
              "#fdca26"
             ],
             [
              1,
              "#f0f921"
             ]
            ],
            "type": "histogram2d"
           }
          ],
          "histogram2dcontour": [
           {
            "colorbar": {
             "outlinewidth": 0,
             "ticks": ""
            },
            "colorscale": [
             [
              0,
              "#0d0887"
             ],
             [
              0.1111111111111111,
              "#46039f"
             ],
             [
              0.2222222222222222,
              "#7201a8"
             ],
             [
              0.3333333333333333,
              "#9c179e"
             ],
             [
              0.4444444444444444,
              "#bd3786"
             ],
             [
              0.5555555555555556,
              "#d8576b"
             ],
             [
              0.6666666666666666,
              "#ed7953"
             ],
             [
              0.7777777777777778,
              "#fb9f3a"
             ],
             [
              0.8888888888888888,
              "#fdca26"
             ],
             [
              1,
              "#f0f921"
             ]
            ],
            "type": "histogram2dcontour"
           }
          ],
          "mesh3d": [
           {
            "colorbar": {
             "outlinewidth": 0,
             "ticks": ""
            },
            "type": "mesh3d"
           }
          ],
          "parcoords": [
           {
            "line": {
             "colorbar": {
              "outlinewidth": 0,
              "ticks": ""
             }
            },
            "type": "parcoords"
           }
          ],
          "pie": [
           {
            "automargin": true,
            "type": "pie"
           }
          ],
          "scatter": [
           {
            "marker": {
             "colorbar": {
              "outlinewidth": 0,
              "ticks": ""
             }
            },
            "type": "scatter"
           }
          ],
          "scatter3d": [
           {
            "line": {
             "colorbar": {
              "outlinewidth": 0,
              "ticks": ""
             }
            },
            "marker": {
             "colorbar": {
              "outlinewidth": 0,
              "ticks": ""
             }
            },
            "type": "scatter3d"
           }
          ],
          "scattercarpet": [
           {
            "marker": {
             "colorbar": {
              "outlinewidth": 0,
              "ticks": ""
             }
            },
            "type": "scattercarpet"
           }
          ],
          "scattergeo": [
           {
            "marker": {
             "colorbar": {
              "outlinewidth": 0,
              "ticks": ""
             }
            },
            "type": "scattergeo"
           }
          ],
          "scattergl": [
           {
            "marker": {
             "colorbar": {
              "outlinewidth": 0,
              "ticks": ""
             }
            },
            "type": "scattergl"
           }
          ],
          "scattermapbox": [
           {
            "marker": {
             "colorbar": {
              "outlinewidth": 0,
              "ticks": ""
             }
            },
            "type": "scattermapbox"
           }
          ],
          "scatterpolar": [
           {
            "marker": {
             "colorbar": {
              "outlinewidth": 0,
              "ticks": ""
             }
            },
            "type": "scatterpolar"
           }
          ],
          "scatterpolargl": [
           {
            "marker": {
             "colorbar": {
              "outlinewidth": 0,
              "ticks": ""
             }
            },
            "type": "scatterpolargl"
           }
          ],
          "scatterternary": [
           {
            "marker": {
             "colorbar": {
              "outlinewidth": 0,
              "ticks": ""
             }
            },
            "type": "scatterternary"
           }
          ],
          "surface": [
           {
            "colorbar": {
             "outlinewidth": 0,
             "ticks": ""
            },
            "colorscale": [
             [
              0,
              "#0d0887"
             ],
             [
              0.1111111111111111,
              "#46039f"
             ],
             [
              0.2222222222222222,
              "#7201a8"
             ],
             [
              0.3333333333333333,
              "#9c179e"
             ],
             [
              0.4444444444444444,
              "#bd3786"
             ],
             [
              0.5555555555555556,
              "#d8576b"
             ],
             [
              0.6666666666666666,
              "#ed7953"
             ],
             [
              0.7777777777777778,
              "#fb9f3a"
             ],
             [
              0.8888888888888888,
              "#fdca26"
             ],
             [
              1,
              "#f0f921"
             ]
            ],
            "type": "surface"
           }
          ],
          "table": [
           {
            "cells": {
             "fill": {
              "color": "#EBF0F8"
             },
             "line": {
              "color": "white"
             }
            },
            "header": {
             "fill": {
              "color": "#C8D4E3"
             },
             "line": {
              "color": "white"
             }
            },
            "type": "table"
           }
          ]
         },
         "layout": {
          "annotationdefaults": {
           "arrowcolor": "#2a3f5f",
           "arrowhead": 0,
           "arrowwidth": 1
          },
          "coloraxis": {
           "colorbar": {
            "outlinewidth": 0,
            "ticks": ""
           }
          },
          "colorscale": {
           "diverging": [
            [
             0,
             "#8e0152"
            ],
            [
             0.1,
             "#c51b7d"
            ],
            [
             0.2,
             "#de77ae"
            ],
            [
             0.3,
             "#f1b6da"
            ],
            [
             0.4,
             "#fde0ef"
            ],
            [
             0.5,
             "#f7f7f7"
            ],
            [
             0.6,
             "#e6f5d0"
            ],
            [
             0.7,
             "#b8e186"
            ],
            [
             0.8,
             "#7fbc41"
            ],
            [
             0.9,
             "#4d9221"
            ],
            [
             1,
             "#276419"
            ]
           ],
           "sequential": [
            [
             0,
             "#0d0887"
            ],
            [
             0.1111111111111111,
             "#46039f"
            ],
            [
             0.2222222222222222,
             "#7201a8"
            ],
            [
             0.3333333333333333,
             "#9c179e"
            ],
            [
             0.4444444444444444,
             "#bd3786"
            ],
            [
             0.5555555555555556,
             "#d8576b"
            ],
            [
             0.6666666666666666,
             "#ed7953"
            ],
            [
             0.7777777777777778,
             "#fb9f3a"
            ],
            [
             0.8888888888888888,
             "#fdca26"
            ],
            [
             1,
             "#f0f921"
            ]
           ],
           "sequentialminus": [
            [
             0,
             "#0d0887"
            ],
            [
             0.1111111111111111,
             "#46039f"
            ],
            [
             0.2222222222222222,
             "#7201a8"
            ],
            [
             0.3333333333333333,
             "#9c179e"
            ],
            [
             0.4444444444444444,
             "#bd3786"
            ],
            [
             0.5555555555555556,
             "#d8576b"
            ],
            [
             0.6666666666666666,
             "#ed7953"
            ],
            [
             0.7777777777777778,
             "#fb9f3a"
            ],
            [
             0.8888888888888888,
             "#fdca26"
            ],
            [
             1,
             "#f0f921"
            ]
           ]
          },
          "colorway": [
           "#636efa",
           "#EF553B",
           "#00cc96",
           "#ab63fa",
           "#FFA15A",
           "#19d3f3",
           "#FF6692",
           "#B6E880",
           "#FF97FF",
           "#FECB52"
          ],
          "font": {
           "color": "#2a3f5f"
          },
          "geo": {
           "bgcolor": "white",
           "lakecolor": "white",
           "landcolor": "#E5ECF6",
           "showlakes": true,
           "showland": true,
           "subunitcolor": "white"
          },
          "hoverlabel": {
           "align": "left"
          },
          "hovermode": "closest",
          "mapbox": {
           "style": "light"
          },
          "paper_bgcolor": "white",
          "plot_bgcolor": "#E5ECF6",
          "polar": {
           "angularaxis": {
            "gridcolor": "white",
            "linecolor": "white",
            "ticks": ""
           },
           "bgcolor": "#E5ECF6",
           "radialaxis": {
            "gridcolor": "white",
            "linecolor": "white",
            "ticks": ""
           }
          },
          "scene": {
           "xaxis": {
            "backgroundcolor": "#E5ECF6",
            "gridcolor": "white",
            "gridwidth": 2,
            "linecolor": "white",
            "showbackground": true,
            "ticks": "",
            "zerolinecolor": "white"
           },
           "yaxis": {
            "backgroundcolor": "#E5ECF6",
            "gridcolor": "white",
            "gridwidth": 2,
            "linecolor": "white",
            "showbackground": true,
            "ticks": "",
            "zerolinecolor": "white"
           },
           "zaxis": {
            "backgroundcolor": "#E5ECF6",
            "gridcolor": "white",
            "gridwidth": 2,
            "linecolor": "white",
            "showbackground": true,
            "ticks": "",
            "zerolinecolor": "white"
           }
          },
          "shapedefaults": {
           "line": {
            "color": "#2a3f5f"
           }
          },
          "ternary": {
           "aaxis": {
            "gridcolor": "white",
            "linecolor": "white",
            "ticks": ""
           },
           "baxis": {
            "gridcolor": "white",
            "linecolor": "white",
            "ticks": ""
           },
           "bgcolor": "#E5ECF6",
           "caxis": {
            "gridcolor": "white",
            "linecolor": "white",
            "ticks": ""
           }
          },
          "title": {
           "x": 0.05
          },
          "xaxis": {
           "automargin": true,
           "gridcolor": "white",
           "linecolor": "white",
           "ticks": "",
           "title": {
            "standoff": 15
           },
           "zerolinecolor": "white",
           "zerolinewidth": 2
          },
          "yaxis": {
           "automargin": true,
           "gridcolor": "white",
           "linecolor": "white",
           "ticks": "",
           "title": {
            "standoff": 15
           },
           "zerolinecolor": "white",
           "zerolinewidth": 2
          }
         }
        }
       }
      }
     },
     "metadata": {}
    }
   ],
   "source": [
    "token = \"pk.eyJ1IjoidmVlai03NyIsImEiOiJja2JudG1mdjAxMWE0MzR0bWs3YmYxZHFqIn0.qM8Sp9HAT_BRux9j7n-ZLQ\" # public token\n",
    "\n",
    "fig = px.scatter_mapbox(us_state_df, lat=\"latitude\", lon=\"longitude\", hover_name=\"state\", hover_data=[\"state\", \"total_count\"],\n",
    "                        color_discrete_sequence=[\"fuchsia\"], zoom=3, height=300, size=\"total_count\")\n",
    "\n",
    "fig.update_layout(mapbox_style=\"dark\", mapbox_accesstoken=token)\n",
    "fig.update_layout(margin={\"r\":0,\"t\":0,\"l\":0,\"b\":0})\n",
    "\n",
    "fig.show()"
   ]
  },
  {
   "cell_type": "code",
   "execution_count": 6,
   "metadata": {
    "ExecuteTime": {
     "end_time": "2020-07-09T05:20:05.461849Z",
     "start_time": "2020-07-09T05:20:05.446849Z"
    },
    "tags": []
   },
   "outputs": [
    {
     "output_type": "stream",
     "name": "stdout",
     "text": "Figure({\n    'data': [{'customdata': array([['Alabama', 876],\n                                   ['Alaska', 69],\n                                   ['Arizona', 916],\n                                   ['Arkansas', 472],\n                                   ['California', 3259],\n                                   ['Colorado', 588],\n                                   ['Connecticut', 276],\n                                   ['Delaware', 104],\n                                   ['District of Columbia', 30],\n                                   ['Florida', 2915],\n                                   ['Georgia', 1407],\n                                   ['Hawaii', 110],\n                                   ['Idaho', 212],\n                                   ['Illinois', 948],\n                                   ['Indiana', 774],\n                                   ['Iowa', 291],\n                                   ['Kansas', 366],\n                                   ['Kentucky', 664],\n                                   ['Louisiana', 716],\n                                   ['Maine', 128],\n                                   ['Maryland', 474],\n                                   ['Massachusetts', 343],\n                                   ['Michigan', 905],\n                                   ['Minnesota', 349],\n                                   ['Mississippi', 597],\n                                   ['Missouri', 848],\n                                   ['Montana', 168],\n                                   ['Nebraska', 201],\n                                   ['Nevada', 300],\n                                   ['New Hampshire', 134],\n                                   ['New Jersey', 525],\n                                   ['New Mexico', 350],\n                                   ['New York', 889],\n                                   ['North Carolina', 1321],\n                                   ['North Dakota', 95],\n                                   ['Ohio', 996],\n                                   ['Oklahoma', 603],\n                                   ['Oregon', 450],\n                                   ['Pennsylvania', 1103],\n                                   ['Rhode Island', 56],\n                                   ['South Carolina', 970],\n                                   ['South Dakota', 110],\n                                   ['Tennessee', 974],\n                                   ['Texas', 3305],\n                                   ['Utah', 237],\n                                   ['Vermont', 60],\n                                   ['Virginia', 778],\n                                   ['Washington', 497],\n                                   ['West Virginia', 265],\n                                   ['Wisconsin', 530],\n                                   ['Wyoming', 100]], dtype=object),\n              'hoverlabel': {'namelength': 0},\n              'hovertemplate': ('<b>%{hovertext}</b><br><br>tot' ... 'ude=%{lat}<br>longitude=%{lon}'),\n              'hovertext': array(['Alabama', 'Alaska', 'Arizona', 'Arkansas', 'California', 'Colorado',\n                                  'Connecticut', 'Delaware', 'District of Columbia', 'Florida', 'Georgia',\n                                  'Hawaii', 'Idaho', 'Illinois', 'Indiana', 'Iowa', 'Kansas', 'Kentucky',\n                                  'Louisiana', 'Maine', 'Maryland', 'Massachusetts', 'Michigan',\n                                  'Minnesota', 'Mississippi', 'Missouri', 'Montana', 'Nebraska', 'Nevada',\n                                  'New Hampshire', 'New Jersey', 'New Mexico', 'New York',\n                                  'North Carolina', 'North Dakota', 'Ohio', 'Oklahoma', 'Oregon',\n                                  'Pennsylvania', 'Rhode Island', 'South Carolina', 'South Dakota',\n                                  'Tennessee', 'Texas', 'Utah', 'Vermont', 'Virginia', 'Washington',\n                                  'West Virginia', 'Wisconsin', 'Wyoming'], dtype=object),\n              'lat': array([32.318231, 63.588753, 34.048928, 35.20105 , 36.778261, 39.550051,\n                            41.603221, 38.910832, 38.905985, 27.664827, 32.157435, 19.898682,\n                            44.068202, 40.633125, 40.551217, 41.878003, 39.011902, 37.839333,\n                            31.244823, 45.253783, 39.045755, 42.407211, 44.314844, 46.729553,\n                            32.354668, 37.964253, 46.879682, 41.492537, 38.80261 , 43.193852,\n                            40.058324, 34.97273 , 43.299428, 35.759573, 47.551493, 40.417287,\n                            35.007752, 43.804133, 41.203322, 41.580095, 33.836081, 43.969515,\n                            35.517491, 31.968599, 39.32098 , 44.558803, 37.431573, 47.751074,\n                            38.597626, 43.78444 , 43.075968]),\n              'legendgroup': '',\n              'lon': array([ -86.902298, -154.493062, -111.093731,  -91.831833, -119.417932,\n                            -105.782067,  -73.087749,  -75.52767 ,  -77.033418,  -81.515754,\n                             -82.907123, -155.665857, -114.742041,  -89.398528,  -85.602364,\n                             -93.097702,  -98.484246,  -84.270018,  -92.145024,  -69.445469,\n                             -76.641271,  -71.382437,  -85.602364,  -94.6859  ,  -89.398528,\n                             -91.831833, -110.362566,  -99.901813, -116.419389,  -71.572395,\n                             -74.405661, -105.032363,  -74.217933,  -79.0193  , -101.002012,\n                             -82.907123,  -97.092877, -120.554201,  -77.194525,  -71.477429,\n                             -81.163725,  -99.901813,  -86.580447,  -99.901813, -111.093731,\n                             -72.577841,  -78.656894, -120.740139,  -80.454903,  -88.787868,\n                            -107.290284]),\n              'marker': {'color': 'fuchsia',\n                         'size': array([ 876,   69,  916,  472, 3259,  588,  276,  104,   30, 2915, 1407,  110,\n                                         212,  948,  774,  291,  366,  664,  716,  128,  474,  343,  905,  349,\n                                         597,  848,  168,  201,  300,  134,  525,  350,  889, 1321,   95,  996,\n                                         603,  450, 1103,   56,  970,  110,  974, 3305,  237,   60,  778,  497,\n                                         265,  530,  100], dtype=int64),\n                         'sizemode': 'area',\n                         'sizeref': 8.2625},\n              'mode': 'markers',\n              'name': '',\n              'showlegend': False,\n              'subplot': 'mapbox',\n              'type': 'scattermapbox'}],\n    'layout': {'height': 300,\n               'legend': {'itemsizing': 'constant', 'tracegroupgap': 0},\n               'mapbox': {'accesstoken': ('pk.eyJ1IjoidmVlai03NyIsImEiOiJ' ... 'ZHFqIn0.qM8Sp9HAT_BRux9j7n-ZLQ'),\n                          'center': {'lat': 39.5638803137255, 'lon': -93.33912282352938},\n                          'domain': {'x': [0.0, 1.0], 'y': [0.0, 1.0]},\n                          'style': 'dark',\n                          'zoom': 3},\n               'margin': {'b': 0, 'l': 0, 'r': 0, 't': 0},\n               'template': '...'}\n})\n"
    }
   ],
   "source": [
    "fig.to_html\n",
    "print(fig)"
   ]
  },
  {
   "cell_type": "code",
   "execution_count": 7,
   "metadata": {
    "ExecuteTime": {
     "end_time": "2020-07-09T05:42:13.595769Z",
     "start_time": "2020-07-09T05:42:13.567488Z"
    }
   },
   "outputs": [],
   "source": [
    "import plotly.io as pio"
   ]
  },
  {
   "cell_type": "code",
   "execution_count": 8,
   "metadata": {
    "ExecuteTime": {
     "end_time": "2020-07-09T06:00:41.897523Z",
     "start_time": "2020-07-09T06:00:25.666366Z"
    }
   },
   "outputs": [],
   "source": [
    "pio.write_image(fig, 'choropleth.svg')"
   ]
  },
  {
   "cell_type": "code",
   "execution_count": null,
   "metadata": {},
   "outputs": [],
   "source": []
  }
 ],
 "metadata": {
  "hide_input": false,
  "kernelspec": {
   "display_name": "Python 3",
   "language": "python",
   "name": "python3"
  },
  "language_info": {
   "codemirror_mode": {
    "name": "ipython",
    "version": 3
   },
   "file_extension": ".py",
   "mimetype": "text/x-python",
   "name": "python",
   "nbconvert_exporter": "python",
   "pygments_lexer": "ipython3",
   "version": "3.7.4"
  },
  "toc": {
   "base_numbering": 1,
   "nav_menu": {},
   "number_sections": true,
   "sideBar": true,
   "skip_h1_title": false,
   "title_cell": "Table of Contents",
   "title_sidebar": "Contents",
   "toc_cell": false,
   "toc_position": {},
   "toc_section_display": true,
   "toc_window_display": false
  },
  "varInspector": {
   "cols": {
    "lenName": 16,
    "lenType": 16,
    "lenVar": 40
   },
   "kernels_config": {
    "python": {
     "delete_cmd_postfix": "",
     "delete_cmd_prefix": "del ",
     "library": "var_list.py",
     "varRefreshCmd": "print(var_dic_list())"
    },
    "r": {
     "delete_cmd_postfix": ") ",
     "delete_cmd_prefix": "rm(",
     "library": "var_list.r",
     "varRefreshCmd": "cat(var_dic_list()) "
    }
   },
   "types_to_exclude": [
    "module",
    "function",
    "builtin_function_or_method",
    "instance",
    "_Feature"
   ],
   "window_display": false
  }
 },
 "nbformat": 4,
 "nbformat_minor": 2
}